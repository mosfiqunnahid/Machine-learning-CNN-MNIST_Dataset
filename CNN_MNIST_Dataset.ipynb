{
  "nbformat": 4,
  "nbformat_minor": 0,
  "metadata": {
    "colab": {
      "name": "CNN-MNIST_Dataset.ipynb",
      "provenance": []
    },
    "kernelspec": {
      "name": "python3",
      "display_name": "Python 3"
    }
  },
  "cells": [
    {
      "cell_type": "code",
      "metadata": {
        "id": "GNehp3Fl9gfo",
        "colab_type": "code",
        "colab": {
          "base_uri": "https://localhost:8080/",
          "height": 34
        },
        "outputId": "5a65820d-8983-4e3f-f59a-cae93edc4921"
      },
      "source": [
        "import cv2\n",
        "import keras\n",
        "import numpy as np\n",
        "import pandas as pd\n",
        "from keras import Sequential\n",
        "from keras.layers import Dense\n",
        "import matplotlib.pyplot as plt\n",
        "from keras.models import Sequential\n",
        "from keras.utils import to_categorical\n",
        "from sklearn.model_selection import train_test_split\n",
        "from keras.layers import Conv2D, MaxPooling2D, Flatten, Dropout, Dense"
      ],
      "execution_count": null,
      "outputs": [
        {
          "output_type": "stream",
          "text": [
            "Using TensorFlow backend.\n"
          ],
          "name": "stderr"
        }
      ]
    },
    {
      "cell_type": "code",
      "metadata": {
        "id": "s5tpSkW49jjq",
        "colab_type": "code",
        "colab": {
          "base_uri": "https://localhost:8080/",
          "height": 136
        },
        "outputId": "8ca96567-a9f1-45f4-b779-2b24ec602375"
      },
      "source": [
        "mnist = pd.read_csv('/content/sample_data/mnist_train_small.csv').iloc[:,:].values\n",
        "mnist"
      ],
      "execution_count": null,
      "outputs": [
        {
          "output_type": "execute_result",
          "data": {
            "text/plain": [
              "array([[5, 0, 0, ..., 0, 0, 0],\n",
              "       [7, 0, 0, ..., 0, 0, 0],\n",
              "       [9, 0, 0, ..., 0, 0, 0],\n",
              "       ...,\n",
              "       [2, 0, 0, ..., 0, 0, 0],\n",
              "       [9, 0, 0, ..., 0, 0, 0],\n",
              "       [5, 0, 0, ..., 0, 0, 0]])"
            ]
          },
          "metadata": {
            "tags": []
          },
          "execution_count": 2
        }
      ]
    },
    {
      "cell_type": "code",
      "metadata": {
        "id": "Dm0hX8Yk9jsk",
        "colab_type": "code",
        "colab": {
          "base_uri": "https://localhost:8080/",
          "height": 136
        },
        "outputId": "8397f520-2920-446f-bb88-1e98fbd28830"
      },
      "source": [
        "y = mnist[:,0]\n",
        "x = mnist[:,1:]\n",
        "x"
      ],
      "execution_count": null,
      "outputs": [
        {
          "output_type": "execute_result",
          "data": {
            "text/plain": [
              "array([[0, 0, 0, ..., 0, 0, 0],\n",
              "       [0, 0, 0, ..., 0, 0, 0],\n",
              "       [0, 0, 0, ..., 0, 0, 0],\n",
              "       ...,\n",
              "       [0, 0, 0, ..., 0, 0, 0],\n",
              "       [0, 0, 0, ..., 0, 0, 0],\n",
              "       [0, 0, 0, ..., 0, 0, 0]])"
            ]
          },
          "metadata": {
            "tags": []
          },
          "execution_count": 3
        }
      ]
    },
    {
      "cell_type": "code",
      "metadata": {
        "id": "8nr0BBTK9kD2",
        "colab_type": "code",
        "colab": {
          "base_uri": "https://localhost:8080/",
          "height": 34
        },
        "outputId": "b50a5fd0-d0e4-40ab-a091-e585af21cd9f"
      },
      "source": [
        "temp = []\n",
        "for i in x:\n",
        "  temp.append(i.reshape(28,28))\n",
        "temp = np.array(temp)\n",
        "temp.shape  "
      ],
      "execution_count": null,
      "outputs": [
        {
          "output_type": "execute_result",
          "data": {
            "text/plain": [
              "(19999, 28, 28)"
            ]
          },
          "metadata": {
            "tags": []
          },
          "execution_count": 4
        }
      ]
    },
    {
      "cell_type": "code",
      "metadata": {
        "id": "MuHUFp839kK2",
        "colab_type": "code",
        "colab": {
          "base_uri": "https://localhost:8080/",
          "height": 282
        },
        "outputId": "c78ae249-23dd-4605-9ddc-bf31b51e6502"
      },
      "source": [
        "plt.imshow(temp[0])"
      ],
      "execution_count": null,
      "outputs": [
        {
          "output_type": "execute_result",
          "data": {
            "text/plain": [
              "<matplotlib.image.AxesImage at 0x7fb916e0d7b8>"
            ]
          },
          "metadata": {
            "tags": []
          },
          "execution_count": 5
        },
        {
          "output_type": "display_data",
          "data": {
            "image/png": "[encoded data removed]",
            "text/plain": [
              "<Figure size 432x288 with 1 Axes>"
            ]
          },
          "metadata": {
            "tags": [],
            "needs_background": "light"
          }
        }
      ]
    },
    {
      "cell_type": "code",
      "metadata": {
        "id": "4V5WuvUA9kN7",
        "colab_type": "code",
        "colab": {}
      },
      "source": [
        "x = temp.reshape(-1,28,28,1)\n",
        "y = to_categorical(y)"
      ],
      "execution_count": null,
      "outputs": []
    },
    {
      "cell_type": "code",
      "metadata": {
        "id": "R8pPAWCB9kCj",
        "colab_type": "code",
        "colab": {}
      },
      "source": [
        "model = Sequential()\n",
        "model.add(Conv2D(32, (3, 3), activation='relu', input_shape=(28, 28, 1)))\n",
        "\n",
        "model.add(MaxPooling2D((2, 2)))\n",
        "model.add(Flatten())\n",
        "model.add(Dense(128, activation='relu'))\n",
        "model.add(Dense(254, activation='relu'))\n",
        "model.add(Dense(128, activation='relu'))\n",
        "model.add(Dense(10, activation='softmax'))\n",
        "model.compile(optimizer='adam', loss='categorical_crossentropy', metrics=['accuracy'])"
      ],
      "execution_count": null,
      "outputs": []
    },
    {
      "cell_type": "code",
      "metadata": {
        "id": "BrsfI4Mk9j7F",
        "colab_type": "code",
        "colab": {
          "base_uri": "https://localhost:8080/",
          "height": 391
        },
        "outputId": "a9e48415-b4a8-4a1e-aeb1-dd97aa14a3ee"
      },
      "source": [
        "model.summary()"
      ],
      "execution_count": null,
      "outputs": [
        {
          "output_type": "stream",
          "text": [
            "Model: \"sequential_1\"\n",
            "_________________________________________________________________\n",
            "Layer (type)                 Output Shape              Param #   \n",
            "=================================================================\n",
            "conv2d_1 (Conv2D)            (None, 26, 26, 32)        320       \n",
            "_________________________________________________________________\n",
            "max_pooling2d_1 (MaxPooling2 (None, 13, 13, 32)        0         \n",
            "_________________________________________________________________\n",
            "flatten_1 (Flatten)          (None, 5408)              0         \n",
            "_________________________________________________________________\n",
            "dense_1 (Dense)              (None, 128)               692352    \n",
            "_________________________________________________________________\n",
            "dense_2 (Dense)              (None, 254)               32766     \n",
            "_________________________________________________________________\n",
            "dense_3 (Dense)              (None, 128)               32640     \n",
            "_________________________________________________________________\n",
            "dense_4 (Dense)              (None, 10)                1290      \n",
            "=================================================================\n",
            "Total params: 759,368\n",
            "Trainable params: 759,368\n",
            "Non-trainable params: 0\n",
            "_________________________________________________________________\n"
          ],
          "name": "stdout"
        }
      ]
    },
    {
      "cell_type": "code",
      "metadata": {
        "id": "vRAllZb-9j2F",
        "colab_type": "code",
        "colab": {
          "base_uri": "https://localhost:8080/",
          "height": 734
        },
        "outputId": "37f7235f-f2ec-4408-d52e-f497f48958fa"
      },
      "source": [
        "history = model.fit(x, y, validation_split=0.2, epochs=20, batch_size=150)"
      ],
      "execution_count": null,
      "outputs": [
        {
          "output_type": "stream",
          "text": [
            "Train on 15999 samples, validate on 4000 samples\n",
            "Epoch 1/20\n",
            "15999/15999 [==============================] - 8s 511us/step - loss: 1.8057 - accuracy: 0.8171 - val_loss: 0.2898 - val_accuracy: 0.9170\n",
            "Epoch 2/20\n",
            "15999/15999 [==============================] - 8s 477us/step - loss: 0.1895 - accuracy: 0.9462 - val_loss: 0.2029 - val_accuracy: 0.9438\n",
            "Epoch 3/20\n",
            "15999/15999 [==============================] - 8s 478us/step - loss: 0.1062 - accuracy: 0.9690 - val_loss: 0.1335 - val_accuracy: 0.9620\n",
            "Epoch 4/20\n",
            "15999/15999 [==============================] - 8s 488us/step - loss: 0.0625 - accuracy: 0.9795 - val_loss: 0.1113 - val_accuracy: 0.9655\n",
            "Epoch 5/20\n",
            "15999/15999 [==============================] - 8s 471us/step - loss: 0.0350 - accuracy: 0.9884 - val_loss: 0.1184 - val_accuracy: 0.9700\n",
            "Epoch 6/20\n",
            "15999/15999 [==============================] - 8s 478us/step - loss: 0.0321 - accuracy: 0.9892 - val_loss: 0.1202 - val_accuracy: 0.9678\n",
            "Epoch 7/20\n",
            "15999/15999 [==============================] - 8s 477us/step - loss: 0.0165 - accuracy: 0.9948 - val_loss: 0.1145 - val_accuracy: 0.9697\n",
            "Epoch 8/20\n",
            "15999/15999 [==============================] - 8s 478us/step - loss: 0.0136 - accuracy: 0.9959 - val_loss: 0.1201 - val_accuracy: 0.9707\n",
            "Epoch 9/20\n",
            "15999/15999 [==============================] - 8s 472us/step - loss: 0.0122 - accuracy: 0.9958 - val_loss: 0.1182 - val_accuracy: 0.9720\n",
            "Epoch 10/20\n",
            "15999/15999 [==============================] - 8s 477us/step - loss: 0.0153 - accuracy: 0.9952 - val_loss: 0.1717 - val_accuracy: 0.9632\n",
            "Epoch 11/20\n",
            "15999/15999 [==============================] - 8s 473us/step - loss: 0.0384 - accuracy: 0.9872 - val_loss: 0.1643 - val_accuracy: 0.9657\n",
            "Epoch 12/20\n",
            "15999/15999 [==============================] - 8s 471us/step - loss: 0.0280 - accuracy: 0.9906 - val_loss: 0.1512 - val_accuracy: 0.9700\n",
            "Epoch 13/20\n",
            "15999/15999 [==============================] - 8s 473us/step - loss: 0.0232 - accuracy: 0.9935 - val_loss: 0.1236 - val_accuracy: 0.9735\n",
            "Epoch 14/20\n",
            "15999/15999 [==============================] - 8s 469us/step - loss: 0.0162 - accuracy: 0.9946 - val_loss: 0.1561 - val_accuracy: 0.9678\n",
            "Epoch 15/20\n",
            "15999/15999 [==============================] - 8s 471us/step - loss: 0.0164 - accuracy: 0.9950 - val_loss: 0.1712 - val_accuracy: 0.9653\n",
            "Epoch 16/20\n",
            "15999/15999 [==============================] - 8s 472us/step - loss: 0.0207 - accuracy: 0.9936 - val_loss: 0.1707 - val_accuracy: 0.9700\n",
            "Epoch 17/20\n",
            "15999/15999 [==============================] - 8s 474us/step - loss: 0.0167 - accuracy: 0.9947 - val_loss: 0.1381 - val_accuracy: 0.9743\n",
            "Epoch 18/20\n",
            "15999/15999 [==============================] - 8s 477us/step - loss: 0.0122 - accuracy: 0.9959 - val_loss: 0.1278 - val_accuracy: 0.9775\n",
            "Epoch 19/20\n",
            "15999/15999 [==============================] - 7s 468us/step - loss: 0.0069 - accuracy: 0.9979 - val_loss: 0.1308 - val_accuracy: 0.9760\n",
            "Epoch 20/20\n",
            "15999/15999 [==============================] - 8s 473us/step - loss: 0.0049 - accuracy: 0.9985 - val_loss: 0.1207 - val_accuracy: 0.9797\n"
          ],
          "name": "stdout"
        }
      ]
    },
    {
      "cell_type": "code",
      "metadata": {
        "id": "-V7ZfW-y9jyw",
        "colab_type": "code",
        "colab": {
          "base_uri": "https://localhost:8080/",
          "height": 573
        },
        "outputId": "b2637276-a4e6-4a25-9e6b-b250018192c6"
      },
      "source": [
        "plt.plot(history.history['loss'])\n",
        "plt.plot(history.history['val_loss'])\n",
        "plt.title('Model loss')\n",
        "plt.ylabel('Loss')\n",
        "plt.xlabel('Epoch')\n",
        "plt.legend(['Train', 'Test'], loc='upper left')\n",
        "plt.show()\n",
        "\n",
        "plt.plot(history.history['accuracy'])\n",
        "plt.plot(history.history['val_accuracy'])\n",
        "plt.title('Model acc')\n",
        "plt.ylabel('acc')\n",
        "plt.xlabel('Epoch')\n",
        "plt.legend(['Train', 'Test'], loc='upper left')\n",
        "plt.show()"
      ],
      "execution_count": null,
      "outputs": [
        {
          "output_type": "display_data",
          "data": {
            "image/png": "[encoded data removed]",
            "text/plain": [
              "<Figure size 432x288 with 1 Axes>"
            ]
          },
          "metadata": {
            "tags": [],
            "needs_background": "light"
          }
        },
        {
          "output_type": "display_data",
          "data": {
            "image/png": "[encoded data removed]",
            "text/plain": [
              "<Figure size 432x288 with 1 Axes>"
            ]
          },
          "metadata": {
            "tags": [],
            "needs_background": "light"
          }
        }
      ]
    },
    {
      "cell_type": "code",
      "metadata": {
        "id": "kYbzlWSp9jvx",
        "colab_type": "code",
        "colab": {}
      },
      "source": [
        "model.save_weights('val_accuracy_97.h5 ')"
      ],
      "execution_count": null,
      "outputs": []
    },
    {
      "cell_type": "code",
      "metadata": {
        "id": "6xOgU5lZ9jq8",
        "colab_type": "code",
        "colab": {}
      },
      "source": [
        "all_img = []\n",
        "for i in range(1,10):\n",
        "  img1 = cv2.imread(str(i)+'.jpg',0)\n",
        "  (thresh, im_bw) = cv2.threshold(img1, 128, 255, cv2.THRESH_BINARY | cv2.THRESH_OTSU)\n",
        "  inv = cv2.bitwise_not(im_bw)\n",
        "  all_img.append(cv2.resize(inv, (28,28)))"
      ],
      "execution_count": null,
      "outputs": []
    },
    {
      "cell_type": "code",
      "metadata": {
        "id": "yI3Gzxip9jnv",
        "colab_type": "code",
        "colab": {}
      },
      "source": [
        "all_img = np.array(all_img)"
      ],
      "execution_count": null,
      "outputs": []
    },
    {
      "cell_type": "code",
      "metadata": {
        "id": "mpNIkKpA-Aam",
        "colab_type": "code",
        "colab": {
          "base_uri": "https://localhost:8080/",
          "height": 281
        },
        "outputId": "8ce0bada-4b76-43df-981a-197f96292e61"
      },
      "source": [
        "for i in range(1,10):\n",
        "  plt.subplot(3,3,i)\n",
        "  plt.imshow(all_img[i-1])\n",
        "  plt.title(np.argmax(model.predict(np.reshape(all_img[i-1],(-1,28,28,1)))))"
      ],
      "execution_count": null,
      "outputs": [
        {
          "output_type": "display_data",
          "data": {
            "image/png": "[encoded data removed]",
            "text/plain": [
              "<Figure size 432x288 with 9 Axes>"
            ]
          },
          "metadata": {
            "tags": [],
            "needs_background": "light"
          }
        }
      ]
    }
  ]
}